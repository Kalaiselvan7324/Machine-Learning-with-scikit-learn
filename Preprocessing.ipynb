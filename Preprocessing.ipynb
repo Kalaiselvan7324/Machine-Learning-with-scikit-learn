{
  "nbformat": 4,
  "nbformat_minor": 0,
  "metadata": {
    "colab": {
      "private_outputs": true,
      "provenance": [],
      "authorship_tag": "ABX9TyNDB+30fap2sOYQzOmJOu4f",
      "include_colab_link": true
    },
    "kernelspec": {
      "name": "python3",
      "display_name": "Python 3"
    },
    "language_info": {
      "name": "python"
    }
  },
  "cells": [
    {
      "cell_type": "markdown",
      "metadata": {
        "id": "view-in-github",
        "colab_type": "text"
      },
      "source": [
        "<a href=\"https://colab.research.google.com/github/Kalaiselvan7324/Machine-Learning-with-scikit-learn/blob/main/Preprocessing.ipynb\" target=\"_parent\"><img src=\"https://colab.research.google.com/assets/colab-badge.svg\" alt=\"Open In Colab\"/></a>"
      ]
    },
    {
      "cell_type": "markdown",
      "source": [
        "## Data Preprocessing\n",
        "### This notebook comprises of some of the practice i made in data preprocessing. We'll select rain in australia dataset\n",
        "  "
      ],
      "metadata": {
        "id": "xvmXHaRtaKoR"
      }
    },
    {
      "cell_type": "code",
      "execution_count": null,
      "metadata": {
        "id": "bAsBZohjaIbh"
      },
      "outputs": [],
      "source": [
        "!pip install opendatasets --upgrade --quiet"
      ]
    },
    {
      "cell_type": "code",
      "source": [
        "import opendatasets as od"
      ],
      "metadata": {
        "id": "VnPA0VKHa4Xy"
      },
      "execution_count": null,
      "outputs": []
    },
    {
      "cell_type": "code",
      "execution_count": null,
      "metadata": {
        "id": "quality-valentine"
      },
      "outputs": [],
      "source": [
        "dataset_url = 'https://www.kaggle.com/jsphyg/weather-dataset-rattle-package'\n",
        "od.download(dataset_url)"
      ]
    },
    {
      "cell_type": "code",
      "source": [
        "import os\n",
        "data_dir = './weather-dataset-rattle-package'\n",
        "train_csv = data_dir + '/weatherAUS.csv'\n",
        "os.listdir(data_dir)"
      ],
      "metadata": {
        "id": "JTrDvgusbJc_"
      },
      "execution_count": null,
      "outputs": []
    },
    {
      "cell_type": "code",
      "source": [
        "!pip install pandas --quiet"
      ],
      "metadata": {
        "id": "TaWHdL37bToH"
      },
      "execution_count": null,
      "outputs": []
    },
    {
      "cell_type": "code",
      "source": [
        "import pandas as pd\n",
        "raw_df = pd.read_csv(train_csv)\n",
        "raw_df\n",
        "test_df = raw_df"
      ],
      "metadata": {
        "id": "7zw7-WUobXgH"
      },
      "execution_count": null,
      "outputs": []
    },
    {
      "cell_type": "markdown",
      "source": [
        "### Handling NA values, outlier treatment, data normalization\n",
        "Since all of this is for practising i create a duplicate"
      ],
      "metadata": {
        "id": "wiFq6wHYeh4Q"
      }
    },
    {
      "cell_type": "code",
      "source": [
        "test_df.isna().sum()"
      ],
      "metadata": {
        "id": "LRRxr_XVkluA"
      },
      "execution_count": null,
      "outputs": []
    },
    {
      "cell_type": "code",
      "source": [
        "test_df.dropna(axis = 1,how='all', inplace=True)\n"
      ],
      "metadata": {
        "id": "rGBgiFotk9A_"
      },
      "execution_count": null,
      "outputs": []
    }
  ]
}