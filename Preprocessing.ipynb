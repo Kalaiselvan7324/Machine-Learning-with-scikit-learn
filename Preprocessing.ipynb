{
  "nbformat": 4,
  "nbformat_minor": 0,
  "metadata": {
    "colab": {
      "private_outputs": true,
      "provenance": [],
      "authorship_tag": "ABX9TyOAAsFqZJmc5ult74G+FtaX",
      "include_colab_link": true
    },
    "kernelspec": {
      "name": "python3",
      "display_name": "Python 3"
    },
    "language_info": {
      "name": "python"
    }
  },
  "cells": [
    {
      "cell_type": "markdown",
      "metadata": {
        "id": "view-in-github",
        "colab_type": "text"
      },
      "source": [
        "<a href=\"https://colab.research.google.com/github/Kalaiselvan7324/Machine-Learning-with-scikit-learn/blob/main/Preprocessing.ipynb\" target=\"_parent\"><img src=\"https://colab.research.google.com/assets/colab-badge.svg\" alt=\"Open In Colab\"/></a>"
      ]
    },
    {
      "cell_type": "markdown",
      "source": [
        "## Data Preprocessing\n",
        "### This notebook comprises of some of the practice i made in data preprocessing. We'll select rain in australia dataset\n",
        "  "
      ],
      "metadata": {
        "id": "xvmXHaRtaKoR"
      }
    },
    {
      "cell_type": "code",
      "execution_count": null,
      "metadata": {
        "id": "bAsBZohjaIbh"
      },
      "outputs": [],
      "source": [
        "!pip install opendatasets --upgrade --quiet"
      ]
    },
    {
      "cell_type": "code",
      "source": [
        "import opendatasets as od"
      ],
      "metadata": {
        "id": "VnPA0VKHa4Xy"
      },
      "execution_count": null,
      "outputs": []
    },
    {
      "cell_type": "code",
      "execution_count": null,
      "metadata": {
        "id": "quality-valentine"
      },
      "outputs": [],
      "source": [
        "dataset_url = 'https://www.kaggle.com/jsphyg/weather-dataset-rattle-package'\n",
        "od.download(dataset_url)"
      ]
    },
    {
      "cell_type": "code",
      "source": [
        "import os\n",
        "data_dir = './weather-dataset-rattle-package'\n",
        "train_csv = data_dir + '/weatherAUS.csv'\n",
        "os.listdir(data_dir)"
      ],
      "metadata": {
        "id": "JTrDvgusbJc_"
      },
      "execution_count": null,
      "outputs": []
    },
    {
      "cell_type": "code",
      "source": [
        "!pip install pandas --quiet"
      ],
      "metadata": {
        "id": "TaWHdL37bToH"
      },
      "execution_count": null,
      "outputs": []
    },
    {
      "cell_type": "code",
      "source": [
        "import pandas as pd\n",
        "raw_df = pd.read_csv(train_csv)\n",
        "raw_df"
      ],
      "metadata": {
        "id": "7zw7-WUobXgH"
      },
      "execution_count": null,
      "outputs": []
    }
  ]
}